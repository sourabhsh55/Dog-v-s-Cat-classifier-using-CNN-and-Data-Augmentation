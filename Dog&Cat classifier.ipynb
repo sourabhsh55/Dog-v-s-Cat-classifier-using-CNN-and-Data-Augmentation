{
 "cells": [
  {
   "cell_type": "code",
   "execution_count": null,
   "metadata": {},
   "outputs": [],
   "source": [
    "# In this notebook, model is trained on very lesser no of images(only 200).\n",
    "# for better result ..use more images and few more epochs."
   ]
  },
  {
   "cell_type": "code",
   "execution_count": 179,
   "metadata": {},
   "outputs": [],
   "source": [
    "import os\n",
    "import cv2\n",
    "import keras\n",
    "import random\n",
    "import tensorflow\n",
    "import numpy as np\n",
    "from sklearn import datasets\n",
    "import matplotlib.pyplot as plt\n",
    "from keras.models import Sequential\n",
    "from keras.layers import Dense,Conv2D,MaxPooling2D,Flatten\n",
    "from sklearn.model_selection import train_test_split\n",
    "from keras.preprocessing.image import ImageDataGenerator"
   ]
  },
  {
   "cell_type": "code",
   "execution_count": 180,
   "metadata": {},
   "outputs": [],
   "source": [
    "# directories of cat and dog images\n",
    "direc = '/home/sourabh/Documents'\n",
    "cat_dir = '/CAT/kitty'\n",
    "dog_dir = '/DOG/doggy'"
   ]
  },
  {
   "cell_type": "code",
   "execution_count": 181,
   "metadata": {},
   "outputs": [
    {
     "data": {
      "text/plain": [
       "(2022,)"
      ]
     },
     "execution_count": 181,
     "metadata": {},
     "output_type": "execute_result"
    }
   ],
   "source": [
    "len(os.listdir(direc+cat_dir)) #cats\n",
    "len(os.listdir(direc+dog_dir)) #dogs\n",
    "x1=os.listdir(direc+cat_dir)\n",
    "x2= os.listdir(direc+dog_dir)\n",
    "X=[]\n",
    "X=x1+x2\n",
    "X=np.asarray(X)\n",
    "X.shape"
   ]
  },
  {
   "cell_type": "code",
   "execution_count": 182,
   "metadata": {},
   "outputs": [
    {
     "data": {
      "text/plain": [
       "2022"
      ]
     },
     "execution_count": 182,
     "metadata": {},
     "output_type": "execute_result"
    }
   ],
   "source": [
    "X.shape[0]"
   ]
  },
  {
   "cell_type": "code",
   "execution_count": 183,
   "metadata": {},
   "outputs": [],
   "source": [
    "# one_hot_encodong the Y_labels\n",
    "Y=np.zeros((X.shape[0]))\n",
    "for i in range(X.shape[0]):\n",
    "    if X[i].startswith('cat'):\n",
    "        Y[i]+=0\n",
    "    if X[i].startswith('dog'):\n",
    "        Y[i]+=1"
   ]
  },
  {
   "cell_type": "code",
   "execution_count": 184,
   "metadata": {},
   "outputs": [
    {
     "name": "stdout",
     "output_type": "stream",
     "text": [
      "(2022,)\n",
      "(201, 1)\n"
     ]
    }
   ],
   "source": [
    "print(Y.shape)\n",
    "Y=Y.reshape((Y.shape[0],1))\n",
    "_Y=np.vstack((Y[:101],Y[1010:1110]))\n",
    "print(_Y.shape)"
   ]
  },
  {
   "cell_type": "code",
   "execution_count": 186,
   "metadata": {},
   "outputs": [
    {
     "name": "stdout",
     "output_type": "stream",
     "text": [
      "/home/sourabh/Documents/CAT/kitty\n"
     ]
    }
   ],
   "source": [
    "cd /home/sourabh/Documents/CAT/kitty"
   ]
  },
  {
   "cell_type": "code",
   "execution_count": 187,
   "metadata": {},
   "outputs": [],
   "source": [
    "_X=np.zeros((_Y.shape[0],67500))"
   ]
  },
  {
   "cell_type": "code",
   "execution_count": 189,
   "metadata": {},
   "outputs": [],
   "source": [
    "# taking only 100 of cats pictures out of 1000s\n",
    "\n",
    "for i in range(101):\n",
    "    img=cv2.imread(X[i])\n",
    "    img=img.reshape((67500))\n",
    "    _X[i]+=img"
   ]
  },
  {
   "cell_type": "code",
   "execution_count": 190,
   "metadata": {},
   "outputs": [
    {
     "name": "stdout",
     "output_type": "stream",
     "text": [
      "/home/sourabh/Documents/DOG/doggy\n"
     ]
    }
   ],
   "source": [
    "cd /home/sourabh/Documents/DOG/doggy"
   ]
  },
  {
   "cell_type": "code",
   "execution_count": 191,
   "metadata": {},
   "outputs": [],
   "source": [
    "# taking only 100 of dogs pictures out of 1000s\n",
    "\n",
    "for i in range(1010,1110):\n",
    "    img=cv2.imread(X[i])\n",
    "    img=img.reshape((67500))\n",
    "    _X[i-909]+=img"
   ]
  },
  {
   "cell_type": "code",
   "execution_count": 192,
   "metadata": {},
   "outputs": [
    {
     "data": {
      "text/plain": [
       "(201, 67500)"
      ]
     },
     "execution_count": 192,
     "metadata": {},
     "output_type": "execute_result"
    }
   ],
   "source": [
    "_X.shape"
   ]
  },
  {
   "cell_type": "code",
   "execution_count": 193,
   "metadata": {},
   "outputs": [],
   "source": [
    "_X=_X/255 # rescaling the _X in range of [0,1]"
   ]
  },
  {
   "cell_type": "code",
   "execution_count": 194,
   "metadata": {},
   "outputs": [
    {
     "data": {
      "text/plain": [
       "array([[0.44705882, 0.14509804, 0.04313725, ..., 0.79607843, 0.44313725,\n",
       "        0.30588235],\n",
       "       [0.22745098, 0.36078431, 0.56862745, ..., 0.2627451 , 0.39215686,\n",
       "        0.56862745],\n",
       "       [0.23921569, 0.23529412, 0.49411765, ..., 0.58039216, 0.55686275,\n",
       "        0.56078431],\n",
       "       ...,\n",
       "       [0.57647059, 0.74117647, 0.94901961, ..., 0.30588235, 0.39607843,\n",
       "        0.48235294],\n",
       "       [1.        , 1.        , 1.        , ..., 1.        , 1.        ,\n",
       "        1.        ],\n",
       "       [0.12941176, 0.23137255, 0.28627451, ..., 0.25882353, 0.4627451 ,\n",
       "        0.62352941]])"
      ]
     },
     "execution_count": 194,
     "metadata": {},
     "output_type": "execute_result"
    }
   ],
   "source": [
    "_X"
   ]
  },
  {
   "cell_type": "code",
   "execution_count": 259,
   "metadata": {},
   "outputs": [],
   "source": [
    "# cats :0:1009\n",
    "# dogs :1010:2021"
   ]
  },
  {
   "cell_type": "code",
   "execution_count": 260,
   "metadata": {
    "scrolled": true
   },
   "outputs": [
    {
     "data": {
      "text/plain": [
       "((201, 150, 150, 3), (201, 1))"
      ]
     },
     "execution_count": 260,
     "metadata": {},
     "output_type": "execute_result"
    }
   ],
   "source": [
    "_X.shape, _Y.shape"
   ]
  },
  {
   "cell_type": "code",
   "execution_count": 261,
   "metadata": {},
   "outputs": [],
   "source": [
    "_X = _X.reshape((201,150,150,3))"
   ]
  },
  {
   "cell_type": "code",
   "execution_count": 262,
   "metadata": {},
   "outputs": [
    {
     "data": {
      "text/plain": [
       "((201, 150, 150, 3), (201, 1))"
      ]
     },
     "execution_count": 262,
     "metadata": {},
     "output_type": "execute_result"
    }
   ],
   "source": [
    "_X.shape, _Y.shape"
   ]
  },
  {
   "cell_type": "markdown",
   "metadata": {},
   "source": [
    "# splitting data"
   ]
  },
  {
   "cell_type": "code",
   "execution_count": 199,
   "metadata": {},
   "outputs": [],
   "source": [
    "# splitting data into test and train sets\n",
    "x_train,x_test,y_train,y_test = train_test_split(_X,_Y,test_size=0.2,random_state=1,shuffle=True)"
   ]
  },
  {
   "cell_type": "code",
   "execution_count": 200,
   "metadata": {},
   "outputs": [
    {
     "data": {
      "text/plain": [
       "((160, 150, 150, 3), (160, 1), (41, 150, 150, 3), (41, 1))"
      ]
     },
     "execution_count": 200,
     "metadata": {},
     "output_type": "execute_result"
    }
   ],
   "source": [
    "x_train.shape,y_train.shape,x_test.shape, y_test.shape"
   ]
  },
  {
   "cell_type": "markdown",
   "metadata": {},
   "source": [
    "# Model"
   ]
  },
  {
   "cell_type": "code",
   "execution_count": 245,
   "metadata": {},
   "outputs": [],
   "source": [
    "model = Sequential()"
   ]
  },
  {
   "cell_type": "code",
   "execution_count": 246,
   "metadata": {},
   "outputs": [],
   "source": [
    "c1 = Conv2D(filters=32,kernel_size=(3,3),strides=(1,1),padding='SAME',input_shape=(150,150,3),activation='relu')\n",
    "c2 = Conv2D(filters=32,kernel_size=(3,3),strides=(1,1),padding='SAME',activation='relu')\n",
    "c3 = Conv2D(filters=32,kernel_size=(3,3),strides=(1,1),padding='SAME',activation='relu')\n",
    "m1 = MaxPooling2D(pool_size=(2, 2), strides=None, padding='SAME')\n",
    "m2 = MaxPooling2D(pool_size=(2, 2), strides=None, padding='SAME')\n",
    "m3 = MaxPooling2D(pool_size=(2, 2), strides=None, padding='SAME')\n",
    "f = Flatten()\n",
    "d1 = Dense(units=64,activation='sigmoid')\n",
    "d2 = Dense(units=1,activation='sigmoid')"
   ]
  },
  {
   "cell_type": "code",
   "execution_count": 247,
   "metadata": {},
   "outputs": [],
   "source": [
    "# adding all the layers to the model\n",
    "\n",
    "model.add(c1)\n",
    "model.add(m1)\n",
    "model.add(c2)\n",
    "model.add(m2)\n",
    "model.add(c3)\n",
    "model.add(m3)\n",
    "model.add(f)\n",
    "model.add(d1)\n",
    "model.add(d2)"
   ]
  },
  {
   "cell_type": "code",
   "execution_count": 248,
   "metadata": {},
   "outputs": [
    {
     "name": "stdout",
     "output_type": "stream",
     "text": [
      "_________________________________________________________________\n",
      "Layer (type)                 Output Shape              Param #   \n",
      "=================================================================\n",
      "conv2d_25 (Conv2D)           (None, 150, 150, 32)      896       \n",
      "_________________________________________________________________\n",
      "max_pooling2d_22 (MaxPooling (None, 75, 75, 32)        0         \n",
      "_________________________________________________________________\n",
      "conv2d_26 (Conv2D)           (None, 75, 75, 32)        9248      \n",
      "_________________________________________________________________\n",
      "max_pooling2d_23 (MaxPooling (None, 38, 38, 32)        0         \n",
      "_________________________________________________________________\n",
      "conv2d_27 (Conv2D)           (None, 38, 38, 32)        9248      \n",
      "_________________________________________________________________\n",
      "max_pooling2d_24 (MaxPooling (None, 19, 19, 32)        0         \n",
      "_________________________________________________________________\n",
      "flatten_7 (Flatten)          (None, 11552)             0         \n",
      "_________________________________________________________________\n",
      "dense_10 (Dense)             (None, 64)                739392    \n",
      "_________________________________________________________________\n",
      "dense_11 (Dense)             (None, 1)                 65        \n",
      "=================================================================\n",
      "Total params: 758,849\n",
      "Trainable params: 758,849\n",
      "Non-trainable params: 0\n",
      "_________________________________________________________________\n"
     ]
    }
   ],
   "source": [
    "model.summary()"
   ]
  },
  {
   "cell_type": "code",
   "execution_count": 249,
   "metadata": {},
   "outputs": [],
   "source": [
    "model.compile(loss='binary_crossentropy',optimizer='rmsprop',metrics=['acc'])"
   ]
  },
  {
   "cell_type": "code",
   "execution_count": 250,
   "metadata": {},
   "outputs": [],
   "source": [
    "# Data Augmentation :-\n",
    "gen = ImageDataGenerator(rotation_range=20,\n",
    "                         width_shift_range=0.2,\n",
    "                         height_shift_range=0.2,)"
   ]
  },
  {
   "cell_type": "code",
   "execution_count": 251,
   "metadata": {},
   "outputs": [],
   "source": [
    "gen.fit(x_train)"
   ]
  },
  {
   "cell_type": "code",
   "execution_count": 252,
   "metadata": {},
   "outputs": [
    {
     "name": "stdout",
     "output_type": "stream",
     "text": [
      "Epoch 1/50\n",
      "5/5 [==============================] - 8s 2s/step - loss: 0.7421 - acc: 0.5500\n",
      "Epoch 2/50\n",
      "5/5 [==============================] - 4s 869ms/step - loss: 0.7118 - acc: 0.5000\n",
      "Epoch 3/50\n",
      "5/5 [==============================] - 4s 872ms/step - loss: 0.7487 - acc: 0.4875\n",
      "Epoch 4/50\n",
      "5/5 [==============================] - 4s 867ms/step - loss: 0.7113 - acc: 0.5062\n",
      "Epoch 5/50\n",
      "5/5 [==============================] - 4s 875ms/step - loss: 0.6912 - acc: 0.5187\n",
      "Epoch 6/50\n",
      "5/5 [==============================] - 4s 864ms/step - loss: 0.7061 - acc: 0.5563\n",
      "Epoch 7/50\n",
      "5/5 [==============================] - 4s 881ms/step - loss: 0.7071 - acc: 0.5250\n",
      "Epoch 8/50\n",
      "5/5 [==============================] - 4s 877ms/step - loss: 0.6769 - acc: 0.6437\n",
      "Epoch 9/50\n",
      "5/5 [==============================] - 4s 869ms/step - loss: 0.7086 - acc: 0.5375\n",
      "Epoch 10/50\n",
      "5/5 [==============================] - 4s 855ms/step - loss: 0.6694 - acc: 0.6188\n",
      "Epoch 11/50\n",
      "5/5 [==============================] - 4s 861ms/step - loss: 0.6652 - acc: 0.5563\n",
      "Epoch 12/50\n",
      "5/5 [==============================] - 4s 871ms/step - loss: 0.6426 - acc: 0.6437\n",
      "Epoch 13/50\n",
      "5/5 [==============================] - 4s 874ms/step - loss: 0.6762 - acc: 0.5750\n",
      "Epoch 14/50\n",
      "5/5 [==============================] - 4s 864ms/step - loss: 0.6769 - acc: 0.5438\n",
      "Epoch 15/50\n",
      "5/5 [==============================] - 4s 868ms/step - loss: 0.6432 - acc: 0.6688\n",
      "Epoch 16/50\n",
      "5/5 [==============================] - 5s 900ms/step - loss: 0.6443 - acc: 0.5875\n",
      "Epoch 17/50\n",
      "5/5 [==============================] - 4s 849ms/step - loss: 0.6538 - acc: 0.6000\n",
      "Epoch 18/50\n",
      "5/5 [==============================] - 4s 858ms/step - loss: 0.6827 - acc: 0.6562\n",
      "Epoch 19/50\n",
      "5/5 [==============================] - 4s 846ms/step - loss: 0.6043 - acc: 0.6875\n",
      "Epoch 20/50\n",
      "5/5 [==============================] - 4s 851ms/step - loss: 0.6010 - acc: 0.6813\n",
      "Epoch 21/50\n",
      "5/5 [==============================] - 4s 861ms/step - loss: 0.5855 - acc: 0.7250\n",
      "Epoch 22/50\n",
      "5/5 [==============================] - 4s 859ms/step - loss: 0.5986 - acc: 0.6562\n",
      "Epoch 23/50\n",
      "5/5 [==============================] - 4s 849ms/step - loss: 0.5970 - acc: 0.6500\n",
      "Epoch 24/50\n",
      "5/5 [==============================] - 4s 862ms/step - loss: 0.5936 - acc: 0.6688\n",
      "Epoch 25/50\n",
      "5/5 [==============================] - 4s 854ms/step - loss: 0.5984 - acc: 0.6750\n",
      "Epoch 26/50\n",
      "5/5 [==============================] - 4s 863ms/step - loss: 0.6061 - acc: 0.6625\n",
      "Epoch 27/50\n",
      "5/5 [==============================] - 5s 992ms/step - loss: 0.5800 - acc: 0.6500\n",
      "Epoch 28/50\n",
      "5/5 [==============================] - 4s 877ms/step - loss: 0.6237 - acc: 0.6312\n",
      "Epoch 29/50\n",
      "5/5 [==============================] - 4s 860ms/step - loss: 0.5334 - acc: 0.7375\n",
      "Epoch 30/50\n",
      "5/5 [==============================] - 4s 859ms/step - loss: 0.5339 - acc: 0.6937\n",
      "Epoch 31/50\n",
      "5/5 [==============================] - 4s 855ms/step - loss: 0.5263 - acc: 0.7375\n",
      "Epoch 32/50\n",
      "5/5 [==============================] - 4s 893ms/step - loss: 0.5800 - acc: 0.6688\n",
      "Epoch 33/50\n",
      "5/5 [==============================] - 4s 885ms/step - loss: 0.5034 - acc: 0.7438\n",
      "Epoch 34/50\n",
      "5/5 [==============================] - 4s 854ms/step - loss: 0.6128 - acc: 0.6875\n",
      "Epoch 35/50\n",
      "5/5 [==============================] - 4s 849ms/step - loss: 0.5114 - acc: 0.7625\n",
      "Epoch 36/50\n",
      "5/5 [==============================] - 4s 850ms/step - loss: 0.5385 - acc: 0.6625\n",
      "Epoch 37/50\n",
      "5/5 [==============================] - 4s 851ms/step - loss: 0.5772 - acc: 0.7438\n",
      "Epoch 38/50\n",
      "5/5 [==============================] - 4s 844ms/step - loss: 0.5361 - acc: 0.7562\n",
      "Epoch 39/50\n",
      "5/5 [==============================] - 4s 859ms/step - loss: 0.5275 - acc: 0.7250\n",
      "Epoch 40/50\n",
      "5/5 [==============================] - 4s 836ms/step - loss: 0.4778 - acc: 0.7625\n",
      "Epoch 41/50\n",
      "5/5 [==============================] - 4s 852ms/step - loss: 0.5061 - acc: 0.7375\n",
      "Epoch 42/50\n",
      "5/5 [==============================] - 4s 862ms/step - loss: 0.4322 - acc: 0.7938\n",
      "Epoch 43/50\n",
      "5/5 [==============================] - 4s 855ms/step - loss: 0.4807 - acc: 0.7625\n",
      "Epoch 44/50\n",
      "5/5 [==============================] - 4s 863ms/step - loss: 0.4994 - acc: 0.7313\n",
      "Epoch 45/50\n",
      "5/5 [==============================] - 4s 861ms/step - loss: 0.5632 - acc: 0.7188\n",
      "Epoch 46/50\n",
      "5/5 [==============================] - 4s 853ms/step - loss: 0.4819 - acc: 0.7625\n",
      "Epoch 47/50\n",
      "5/5 [==============================] - 4s 857ms/step - loss: 0.4483 - acc: 0.7875\n",
      "Epoch 48/50\n",
      "5/5 [==============================] - 4s 893ms/step - loss: 0.4813 - acc: 0.7500\n",
      "Epoch 49/50\n",
      "5/5 [==============================] - 4s 853ms/step - loss: 0.4472 - acc: 0.7687\n",
      "Epoch 50/50\n",
      "5/5 [==============================] - 4s 850ms/step - loss: 0.5089 - acc: 0.7562\n"
     ]
    },
    {
     "data": {
      "text/plain": [
       "<keras.callbacks.History at 0x7fab1528d3c8>"
      ]
     },
     "execution_count": 252,
     "metadata": {},
     "output_type": "execute_result"
    }
   ],
   "source": [
    "model.fit_generator(gen.flow(x_train, y_train, batch_size=32),\n",
    "                    steps_per_epoch=len(x_train) / 32, epochs=50)"
   ]
  },
  {
   "cell_type": "code",
   "execution_count": 265,
   "metadata": {},
   "outputs": [],
   "source": [
    "outs=model.predict(x_test)\n",
    "for i in range(outs.shape[0]):\n",
    "    if outs[i]>=0.5:\n",
    "        outs[i]=1\n",
    "    else: outs[i]=0"
   ]
  },
  {
   "cell_type": "code",
   "execution_count": 272,
   "metadata": {},
   "outputs": [
    {
     "data": {
      "text/plain": [
       "19"
      ]
     },
     "execution_count": 272,
     "metadata": {},
     "output_type": "execute_result"
    }
   ],
   "source": [
    "(outs==y_test).sum() # no of correct predictions"
   ]
  }
 ],
 "metadata": {
  "kernelspec": {
   "display_name": "Python 3",
   "language": "python",
   "name": "python3"
  },
  "language_info": {
   "codemirror_mode": {
    "name": "ipython",
    "version": 3
   },
   "file_extension": ".py",
   "mimetype": "text/x-python",
   "name": "python",
   "nbconvert_exporter": "python",
   "pygments_lexer": "ipython3",
   "version": "3.7.3"
  }
 },
 "nbformat": 4,
 "nbformat_minor": 2
}
